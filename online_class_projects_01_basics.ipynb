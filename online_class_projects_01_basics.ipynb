{
  "nbformat": 4,
  "nbformat_minor": 0,
  "metadata": {
    "colab": {
      "provenance": [],
      "authorship_tag": "ABX9TyP8LbWbaBgKv/T3dI9bKyk/",
      "include_colab_link": true
    },
    "kernelspec": {
      "name": "python3",
      "display_name": "Python 3"
    },
    "language_info": {
      "name": "python"
    }
  },
  "cells": [
    {
      "cell_type": "markdown",
      "metadata": {
        "id": "view-in-github",
        "colab_type": "text"
      },
      "source": [
        "<a href=\"https://colab.research.google.com/github/uzmahmed26/Assignment_04-/blob/main/online_class_projects_01_basics.ipynb\" target=\"_parent\"><img src=\"https://colab.research.google.com/assets/colab-badge.svg\" alt=\"Open In Colab\"/></a>"
      ]
    },
    {
      "cell_type": "code",
      "execution_count": null,
      "metadata": {
        "colab": {
          "base_uri": "https://localhost:8080/"
        },
        "id": "_UD1d-SM2ExC",
        "outputId": "5d69ed42-48d0-4bc7-8cda-54b6d7745d5b"
      },
      "outputs": [
        {
          "output_type": "stream",
          "name": "stdout",
          "text": [
            "00_joke_bot\n",
            "what do you want? joke\n",
            "Why do programmers prefer dark mode? \n",
            " Because the light attracts bugs! 🐛💡\n"
          ]
        }
      ],
      "source": [
        "print(\"00_joke_bot\")\n",
        "\n",
        "PROMPT: str = \"what do you want? \"\n",
        "JOKE:str = \"Why do programmers prefer dark mode? \\n Because the light attracts bugs! 🐛💡\"\n",
        "SORRY: str = \"Sorry I only tell jokes.\"\n",
        "\n",
        "def main():\n",
        "  user_input = input(PROMPT)\n",
        "  user_input = user_input.strip().lower()\n",
        "\n",
        "  if \"joke\" in user_input:\n",
        "    print(JOKE)\n",
        "\n",
        "  else:\n",
        "    print(SORRY)\n",
        "\n",
        "if __name__ == \"__main__\":\n",
        "  main()"
      ]
    },
    {
      "cell_type": "code",
      "source": [
        "print(\"01_double_it\")\n",
        "\n",
        "def main():\n",
        "  user_value = int(input(\"Enter a number: \"))\n",
        "  while user_value < 100:\n",
        "    user_value = user_value * 2\n",
        "    print(user_value)\n",
        "\n",
        "if __name__ == \"__main__\":\n",
        "   main()\n"
      ],
      "metadata": {
        "colab": {
          "base_uri": "https://localhost:8080/"
        },
        "id": "sa7sGimT7Y-M",
        "outputId": "2ed01a6e-46a4-4c52-a621-98b1ec39815b"
      },
      "execution_count": null,
      "outputs": [
        {
          "output_type": "stream",
          "name": "stdout",
          "text": [
            "01_double_it\n",
            "Enter a number: 2\n",
            "4\n",
            "8\n",
            "16\n",
            "32\n",
            "64\n",
            "128\n"
          ]
        }
      ]
    },
    {
      "cell_type": "code",
      "source": [
        "print(\"02_liftoff\")\n",
        "\n",
        "def main():\n",
        "  for i in range(10,0,-1):\n",
        "    print(i,end = \" \")\n",
        "  print(\"liftoff 🚀\")\n",
        "\n",
        "if __name__ == \"__main__\":\n",
        "  main()\n"
      ],
      "metadata": {
        "id": "jFlfKvDT8ZQS",
        "colab": {
          "base_uri": "https://localhost:8080/"
        },
        "outputId": "9530ac1d-2c86-4cb0-dbdb-fa6e71ec6230"
      },
      "execution_count": 3,
      "outputs": [
        {
          "output_type": "stream",
          "name": "stdout",
          "text": [
            "02_liftoff\n",
            "10 9 8 7 6 5 4 3 2 1 liftoff 🚀\n"
          ]
        }
      ]
    },
    {
      "cell_type": "code",
      "source": [
        "import random\n",
        "print(\"04_random_numbers\")\n",
        "\n",
        "def main():\n",
        "  for _ in range(10):\n",
        "    print(random.randint(1,100),end = \" \")\n",
        "\n",
        "if __name__ == \"__main__\":\n",
        "  main()\n",
        "\n"
      ],
      "metadata": {
        "id": "FU7xSF10Ilqn",
        "colab": {
          "base_uri": "https://localhost:8080/"
        },
        "outputId": "06072a1b-9701-4191-e881-8521f979e099"
      },
      "execution_count": 4,
      "outputs": [
        {
          "output_type": "stream",
          "name": "stdout",
          "text": [
            "04_random_numbers\n",
            "79 64 80 15 81 55 36 33 3 45 "
          ]
        }
      ]
    },
    {
      "cell_type": "code",
      "source": [
        "import random\n",
        "print(\"03_guess_my_number\")\n",
        "print(\"🎯 Welcome to Guess My Number Game!\")\n",
        "\n",
        "def main():\n",
        "    secret_number = random.randint(1, 100)\n",
        "    print(\"I am thinking of a number between 1 and 100... Can you guess it? 🤔\")\n",
        "\n",
        "    while True:\n",
        "        try:\n",
        "            guess = int(input(\"Enter your guess: \"))\n",
        "\n",
        "            if guess < secret_number:\n",
        "                print(\"Your guess is too low! 📉 Try again.\")\n",
        "            elif guess > secret_number:\n",
        "                print(\"Your guess is too high! 📈 Try again.\")\n",
        "            else:\n",
        "                print(f\"🎉 Congratulations! You guessed it right. The number was {secret_number}!\")\n",
        "                break  # game ends\n",
        "        except ValueError:\n",
        "            print(\"❌ Please enter a valid number!\")\n",
        "\n",
        "if __name__ == \"__main__\":\n",
        "    main()"
      ],
      "metadata": {
        "id": "ndpo9ZxKNJj5",
        "colab": {
          "base_uri": "https://localhost:8080/"
        },
        "outputId": "5c5320ec-bb52-4b7c-be75-b96c6d416322"
      },
      "execution_count": 1,
      "outputs": [
        {
          "output_type": "stream",
          "name": "stdout",
          "text": [
            "03_guess_my_number\n",
            "🎯 Welcome to Guess My Number Game!\n",
            "I am thinking of a number between 1 and 100... Can you guess it? 🤔\n",
            "Enter your guess: 55\n",
            "Your guess is too high! 📈 Try again.\n",
            "Enter your guess: 44\n",
            "Your guess is too high! 📈 Try again.\n",
            "Enter your guess: 32\n",
            "Your guess is too high! 📈 Try again.\n",
            "Enter your guess: 21\n",
            "Your guess is too high! 📈 Try again.\n",
            "Enter your guess: 12\n",
            "Your guess is too high! 📈 Try again.\n",
            "Enter your guess: 6\n",
            "Your guess is too low! 📉 Try again.\n",
            "Enter your guess: 8\n",
            "Your guess is too low! 📉 Try again.\n",
            "Enter your guess: 10\n",
            "🎉 Congratulations! You guessed it right. The number was 10!\n"
          ]
        }
      ]
    }
  ]
}