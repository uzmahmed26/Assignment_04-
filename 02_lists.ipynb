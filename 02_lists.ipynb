{
  "nbformat": 4,
  "nbformat_minor": 0,
  "metadata": {
    "colab": {
      "provenance": [],
      "authorship_tag": "ABX9TyNcjdWJ42uxxMPUKNDC5tBr",
      "include_colab_link": true
    },
    "kernelspec": {
      "name": "python3",
      "display_name": "Python 3"
    },
    "language_info": {
      "name": "python"
    }
  },
  "cells": [
    {
      "cell_type": "markdown",
      "metadata": {
        "id": "view-in-github",
        "colab_type": "text"
      },
      "source": [
        "<a href=\"https://colab.research.google.com/github/uzmahmed26/Assignment_04-/blob/main/02_lists.ipynb\" target=\"_parent\"><img src=\"https://colab.research.google.com/assets/colab-badge.svg\" alt=\"Open In Colab\"/></a>"
      ]
    },
    {
      "cell_type": "code",
      "execution_count": 2,
      "metadata": {
        "colab": {
          "base_uri": "https://localhost:8080/"
        },
        "id": "G5y6svrVRVDK",
        "outputId": "31d016aa-57f2-4be3-f3ac-908b1069a694"
      },
      "outputs": [
        {
          "output_type": "stream",
          "name": "stdout",
          "text": [
            "01_add_many_number\n",
            "15\n"
          ]
        }
      ],
      "source": [
        "print(\"01_add_many_number\")\n",
        "\n",
        "def add_number(numbers)->int:\n",
        "  num:int = 0\n",
        "  for i in numbers:\n",
        "    num += i\n",
        "  return num\n",
        "\n",
        "def main():\n",
        "  numbers:list[list] = [1,2,3,4,5]\n",
        "  sum = add_number(numbers)\n",
        "  print(sum)\n",
        "\n",
        "if __name__ == \"__main__\":\n",
        "  main()\n"
      ]
    },
    {
      "cell_type": "code",
      "source": [
        "print(\"02_double_list\")\n",
        "\n",
        "def main():\n",
        "  numbers:list[int] = [1,2,3,4,5]\n",
        "  for i in range(len(numbers)):\n",
        "    index = numbers[i]\n",
        "    numbers[i] = index * 2\n",
        "  print(numbers)\n",
        "\n",
        "if __name__ == \"__main__\":\n",
        "  main()\n",
        "\n"
      ],
      "metadata": {
        "colab": {
          "base_uri": "https://localhost:8080/"
        },
        "id": "6sd4hZ40SzI0",
        "outputId": "ae484873-4020-4432-9a6b-b3f1d7e5c51c"
      },
      "execution_count": 3,
      "outputs": [
        {
          "output_type": "stream",
          "name": "stdout",
          "text": [
            "02_double_list\n",
            "[2, 4, 6, 8, 10]\n"
          ]
        }
      ]
    },
    {
      "cell_type": "code",
      "source": [
        "print(\"04_flowing_with_data_structures\")\n",
        "\n",
        "def add_three_copies(list,data):\n",
        "  for i in range(3):\n",
        "    list.append(data)\n",
        "def main():\n",
        "  message = input(\"Inter a message to copy. \")\n",
        "  list = []\n",
        "  print(\"Before list: \", list)\n",
        "  add_three_copies(list,message)\n",
        "  print(\"After list: \", list)\n",
        "\n",
        "if __name__ == \"__main__\":\n",
        "  main()\n",
        "\n"
      ],
      "metadata": {
        "colab": {
          "base_uri": "https://localhost:8080/"
        },
        "id": "9AB9WosbUEz7",
        "outputId": "3a9c25ca-9c70-4683-fe12-44e4ef457256"
      },
      "execution_count": 4,
      "outputs": [
        {
          "output_type": "stream",
          "name": "stdout",
          "text": [
            "04_flowing_with_data_structures\n",
            "Inter a message to copy. Hello World\n",
            "Before list:  []\n",
            "After list:  ['Hello World', 'Hello World', 'Hello World']\n"
          ]
        }
      ]
    },
    {
      "cell_type": "code",
      "source": [
        "print(\"05_get_first_element\")\n",
        "\n",
        "def get_first_element(list):\n",
        "  print(list[0])\n",
        "\n",
        "def get_list():\n",
        "  list = []\n",
        "  elem:str = input(\"Enter an element to add to the list. \")\n",
        "  while elem != \"\":\n",
        "    list.append(elem)\n",
        "    elem = input(\"Enter an element to add to the list. \")\n",
        "  return list\n",
        "\n",
        "\n",
        "def main():\n",
        "  list =  get_list()\n",
        "  get_first_element(list)\n",
        "\n",
        "if __name__ == \"__main__\":\n",
        "  main()\n",
        "\n"
      ],
      "metadata": {
        "colab": {
          "base_uri": "https://localhost:8080/"
        },
        "id": "9CU4sRieVbPK",
        "outputId": "297f1015-4473-4c00-c1dc-5ff4fdd84abb"
      },
      "execution_count": 5,
      "outputs": [
        {
          "output_type": "stream",
          "name": "stdout",
          "text": [
            "05_get_first_element\n",
            "Enter an element to add to the list. a\n",
            "Enter an element to add to the list. b\n",
            "Enter an element to add to the list. c\n",
            "Enter an element to add to the list. d\n",
            "Enter an element to add to the list. e\n",
            "Enter an element to add to the list. f\n",
            "Enter an element to add to the list. a\n",
            "Enter an element to add to the list. 1\n",
            "Enter an element to add to the list. 2\n",
            "Enter an element to add to the list. 3\n",
            "Enter an element to add to the list. 4\n",
            "Enter an element to add to the list. \n",
            "a\n"
          ]
        }
      ]
    },
    {
      "cell_type": "code",
      "source": [
        "print(\"06_get_last_element\")\n",
        "\n",
        "def get_last_element(list):\n",
        "  print(list[-1])\n",
        "\n",
        "def get_list():\n",
        "  list = []\n",
        "  elem:str = input(\"Enter an element to add to the list. \")\n",
        "  while elem != \"\":\n",
        "    list.append(elem)\n",
        "    elem = input(\"Enter an element to add to the list. \")\n",
        "  return list\n",
        "\n",
        "\n",
        "def main():\n",
        "  list =  get_list()\n",
        "  get_last_element(list)\n",
        "\n",
        "if __name__ == \"__main__\":\n",
        "  main()\n",
        "\n"
      ],
      "metadata": {
        "colab": {
          "base_uri": "https://localhost:8080/"
        },
        "id": "D-UJnwQmX4d6",
        "outputId": "5951b38f-5860-4c8f-c68d-4b81aabcd2b2"
      },
      "execution_count": 6,
      "outputs": [
        {
          "output_type": "stream",
          "name": "stdout",
          "text": [
            "06_get_last_element\n",
            "Enter an element to add to the list. e\n",
            "Enter an element to add to the list. d\n",
            "Enter an element to add to the list. c\n",
            "Enter an element to add to the list. b\n",
            "Enter an element to add to the list. a\n",
            "Enter an element to add to the list. z\n",
            "Enter an element to add to the list. \n",
            "z\n"
          ]
        }
      ]
    },
    {
      "cell_type": "code",
      "source": [
        "print(\"07_get_list\")\n",
        "\n",
        "def main():\n",
        "  lst = []\n",
        "  val = input(\"Enter a value to add to the list. \")\n",
        "  while val:\n",
        "    lst.append(val)\n",
        "    val = input(\"Enter a value to add to the list. \")\n",
        "    print(\"Here's the list: \",lst)\n",
        "\n",
        "if __name__ == \"__main__\":\n",
        "  main()\n",
        ""
      ],
      "metadata": {
        "colab": {
          "base_uri": "https://localhost:8080/"
        },
        "id": "yBGSzyFrY9xh",
        "outputId": "a54cb8b8-339e-41d6-a200-f9b94d47310f"
      },
      "execution_count": 2,
      "outputs": [
        {
          "output_type": "stream",
          "name": "stdout",
          "text": [
            "07_get_list\n",
            "Enter a value to add to the list. Rayyan\n",
            "Enter a value to add to the list. Rohan\n",
            "Here's the list:  ['Rayyan']\n",
            "Enter a value to add to the list. Azlaan\n",
            "Here's the list:  ['Rayyan', 'Rohan']\n",
            "Enter a value to add to the list. Abdul Ahad\n",
            "Here's the list:  ['Rayyan', 'Rohan', 'Azlaan']\n",
            "Enter a value to add to the list. \n",
            "Here's the list:  ['Rayyan', 'Rohan', 'Azlaan', 'Abdul Ahad']\n"
          ]
        }
      ]
    },
    {
      "cell_type": "code",
      "source": [
        "print(\"08_shorten\")\n",
        "\n",
        "MAX_LENGHT:int = 3\n",
        "def shorten(lst):\n",
        "  while len(lst) >= MAX_LENGHT:\n",
        "    last_element = lst.pop()\n",
        "    print(last_element)\n",
        "\n",
        "def get_lst():\n",
        "  lst = []\n",
        "  element = input(\"Enter an element to add to the list: \")\n",
        "  while element != \"\":\n",
        "    lst.append(element)\n",
        "    element = input(\"Enter an element to add to the list: \")\n",
        "  return lst\n",
        "\n",
        "def main():\n",
        "  lst = get_lst()\n",
        "  shorten(lst)\n",
        "\n",
        "\n",
        "if __name__ == \"__main__\":\n",
        "  main()\n",
        "\n"
      ],
      "metadata": {
        "colab": {
          "base_uri": "https://localhost:8080/"
        },
        "id": "Pp4cyGRm1_VP",
        "outputId": "f908575a-8d03-4bfd-92b4-b6a1015da559"
      },
      "execution_count": 5,
      "outputs": [
        {
          "output_type": "stream",
          "name": "stdout",
          "text": [
            "08_shorten\n",
            "Enter an element to add to the list: uzma\n",
            "Enter an element to add to the list: ahmed\n",
            "Enter an element to add to the list: syed\n",
            "Enter an element to add to the list: rayyan\n",
            "Enter an element to add to the list: rohan\n",
            "Enter an element to add to the list: \n",
            "rohan\n",
            "rayyan\n",
            "syed\n"
          ]
        }
      ]
    }
  ]
}