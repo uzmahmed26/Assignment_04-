{
  "nbformat": 4,
  "nbformat_minor": 0,
  "metadata": {
    "colab": {
      "provenance": [],
      "authorship_tag": "ABX9TyMHAJ2uiitHAa+0BCiEoJBx",
      "include_colab_link": true
    },
    "kernelspec": {
      "name": "python3",
      "display_name": "Python 3"
    },
    "language_info": {
      "name": "python"
    }
  },
  "cells": [
    {
      "cell_type": "markdown",
      "metadata": {
        "id": "view-in-github",
        "colab_type": "text"
      },
      "source": [
        "<a href=\"https://colab.research.google.com/github/uzmahmed26/Assignment_04-/blob/main/03_if_statements.ipynb\" target=\"_parent\"><img src=\"https://colab.research.google.com/assets/colab-badge.svg\" alt=\"Open In Colab\"/></a>"
      ]
    },
    {
      "cell_type": "code",
      "execution_count": 2,
      "metadata": {
        "colab": {
          "base_uri": "https://localhost:8080/"
        },
        "id": "LMaa3AbA6fa6",
        "outputId": "7e4bc696-6623-4b29-dd52-83dca3e53f9a"
      },
      "outputs": [
        {
          "output_type": "stream",
          "name": "stdout",
          "text": [
            "01_print_events\n",
            " Here is 20 even numbers are:  0\n",
            " Here is 20 even numbers are:  2\n",
            " Here is 20 even numbers are:  4\n",
            " Here is 20 even numbers are:  6\n",
            " Here is 20 even numbers are:  8\n",
            " Here is 20 even numbers are:  10\n",
            " Here is 20 even numbers are:  12\n",
            " Here is 20 even numbers are:  14\n",
            " Here is 20 even numbers are:  16\n",
            " Here is 20 even numbers are:  18\n",
            " Here is 20 even numbers are:  20\n",
            " Here is 20 even numbers are:  22\n",
            " Here is 20 even numbers are:  24\n",
            " Here is 20 even numbers are:  26\n",
            " Here is 20 even numbers are:  28\n",
            " Here is 20 even numbers are:  30\n",
            " Here is 20 even numbers are:  32\n",
            " Here is 20 even numbers are:  34\n",
            " Here is 20 even numbers are:  36\n",
            " Here is 20 even numbers are:  38\n",
            " Here is 20 even numbers are:  40\n",
            " Here is 20 even numbers are:  42\n",
            " Here is 20 even numbers are:  44\n",
            " Here is 20 even numbers are:  46\n",
            " Here is 20 even numbers are:  48\n",
            " Here is 20 even numbers are:  50\n",
            " Here is 20 even numbers are:  52\n",
            " Here is 20 even numbers are:  54\n",
            " Here is 20 even numbers are:  56\n",
            " Here is 20 even numbers are:  58\n",
            " Here is 20 even numbers are:  60\n",
            " Here is 20 even numbers are:  62\n",
            " Here is 20 even numbers are:  64\n",
            " Here is 20 even numbers are:  66\n",
            " Here is 20 even numbers are:  68\n",
            " Here is 20 even numbers are:  70\n",
            " Here is 20 even numbers are:  72\n",
            " Here is 20 even numbers are:  74\n",
            " Here is 20 even numbers are:  76\n",
            " Here is 20 even numbers are:  78\n"
          ]
        }
      ],
      "source": [
        "print(\"01_print_events\")\n",
        "\n",
        "def even():\n",
        "  for i in range(40):\n",
        "    print(\" Here is 20 even numbers are: \",i * 2)\n",
        "\n",
        "if __name__ == \"__main__\":\n",
        "  even()"
      ]
    },
    {
      "cell_type": "code",
      "source": [
        "print(\"02_international_voting_age\")\n",
        "\n",
        "Peturksbouipo:int = 16\n",
        "Stanlau:int = 25\n",
        "Mayengua:int = 48\n",
        "\n",
        "def main():\n",
        "  age:int = int(input(\"How old are you? \"))\n",
        "  if age >= Peturksbouipo:\n",
        "    print(f\"Your age is {age} you are eligible to vote in Peturksbouipo! \")\n",
        "  else:\n",
        "    print(\"You are not eligible to vote in Peturksbouipo \")\n",
        "  if age >= Stanlau:\n",
        "    print(f\"Your age is {age} you are eligible to vote in Stanlau! \")\n",
        "  else:\n",
        "    print(\"You are not eligible to vote in Stanlau \")\n",
        "  if age >= Mayengua:\n",
        "    print(f\"Your age is {age} you are eligible to vote in Mayengua! \")\n",
        "  else:\n",
        "    print(\"You are not eligible to vote in Mayengua \")\n",
        "\n",
        "if __name__ == \"__main__\":\n",
        "  main()\n",
        "\n",
        "\n"
      ],
      "metadata": {
        "colab": {
          "base_uri": "https://localhost:8080/"
        },
        "id": "9K1C4d6R8QTc",
        "outputId": "cdd041a2-f31a-448a-d960-bf6f00e665c3"
      },
      "execution_count": 5,
      "outputs": [
        {
          "output_type": "stream",
          "name": "stdout",
          "text": [
            "02_international_voting_age\n",
            "How old are you? 25\n",
            "Your age is 25 you are eligible to vote in Peturksbouipo! \n",
            "Your age is 25 you are eligible to vote in Stanlau! \n",
            "You are not eligible to vote in Mayengua \n"
          ]
        }
      ]
    },
    {
      "cell_type": "code",
      "source": [
        "print(\"03_leap_year\")\n",
        "\n",
        "def leap_year():\n",
        "  year:int = int(input(\"Enter as year. \"))\n",
        "\n",
        "  if year % 4 == 0:\n",
        "    if year % 100 == 0:\n",
        "      if year % 400 == 0:\n",
        "         print(f'{year} is a leap year. ')\n",
        "      else:\n",
        "         print(f'{year} is not a leap year. ')\n",
        "    else:\n",
        "         print(f'{year} is not a leap year. ')\n",
        "  else:\n",
        "        print(f'{year} is not a leap year. ')\n",
        "\n",
        "if __name__ == \"__main__\":\n",
        "  leap_year()\n"
      ],
      "metadata": {
        "colab": {
          "base_uri": "https://localhost:8080/"
        },
        "id": "-tIUuqCt_GS6",
        "outputId": "a4427fc6-8c1c-4003-f4d4-05b8bff87d61"
      },
      "execution_count": 9,
      "outputs": [
        {
          "output_type": "stream",
          "name": "stdout",
          "text": [
            "03_leap_year\n",
            "Enter as year. 2026\n",
            "2026 is not a leap year. \n"
          ]
        }
      ]
    },
    {
      "cell_type": "code",
      "source": [
        "print(\"04_tall_enough_to_ride\")\n",
        "\n",
        "min_height:int = 50\n",
        "def main():\n",
        "  user:int = int(input(\"How tall are you? \"))\n",
        "  if user >= min_height:\n",
        "    print(\"you are tall enough to ride\")\n",
        "  else:\n",
        "    print(\"you are not tall enough to ride.May be next year.\")\n",
        "\n",
        "if __name__ == \"__main__\":\n",
        "  main()\n"
      ],
      "metadata": {
        "colab": {
          "base_uri": "https://localhost:8080/"
        },
        "id": "HjaMbERPA9x7",
        "outputId": "d38a665f-106e-411a-ea39-02a702bce24b"
      },
      "execution_count": 13,
      "outputs": [
        {
          "output_type": "stream",
          "name": "stdout",
          "text": [
            "04_tall_enough_to_ride\n",
            "How tall are you? 7\n",
            "you are not tall enough to ride.May be next year.\n"
          ]
        }
      ]
    },
    {
      "cell_type": "code",
      "source": [
        "import random\n",
        "print(\"05_random_numbers\")\n",
        "\n",
        "def main():\n",
        "  for i in range(10):\n",
        "    num:list[int] =  random.randint(1,100)\n",
        "    print(num)\n",
        "\n",
        "if __name__ == \"__main__\":\n",
        "  main()\n",
        ""
      ],
      "metadata": {
        "id": "mLgG-LiTDX9z",
        "outputId": "87ddf8c2-5ee0-4063-e21a-33a51dd9645a",
        "colab": {
          "base_uri": "https://localhost:8080/"
        }
      },
      "execution_count": 15,
      "outputs": [
        {
          "output_type": "stream",
          "name": "stdout",
          "text": [
            "05_random_numbers\n",
            "92\n",
            "4\n",
            "37\n",
            "34\n",
            "58\n",
            "98\n",
            "97\n",
            "39\n",
            "8\n",
            "17\n"
          ]
        }
      ]
    }
  ]
}