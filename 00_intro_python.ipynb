{
  "cells": [
    {
      "cell_type": "markdown",
      "metadata": {
        "id": "view-in-github",
        "colab_type": "text"
      },
      "source": [
        "<a href=\"https://colab.research.google.com/github/uzmahmed26/Assignment_04-/blob/main/00_intro_python.ipynb\" target=\"_parent\"><img src=\"https://colab.research.google.com/assets/colab-badge.svg\" alt=\"Open In Colab\"/></a>"
      ]
    },
    {
      "cell_type": "code",
      "execution_count": null,
      "metadata": {
        "colab": {
          "base_uri": "https://localhost:8080/"
        },
        "id": "mYoaOG8XlLJf",
        "outputId": "1dcaa071-2a02-4f5b-f6a0-3d9dc0119a7a"
      },
      "outputs": [
        {
          "output_type": "stream",
          "name": "stdout",
          "text": [
            "01_add_two_numbers\n",
            "This application for add two numbers\n",
            "Enter your second number 5\n",
            "The total sum of 7 and 5 is 12\n"
          ]
        }
      ],
      "source": [
        "print(\"01_add_two_numbers\")\n",
        "\n",
        "def add():\n",
        "  print(\"This application for add two numbers\")\n",
        "  first_number = int(input(\"Enter your first number \"))\n",
        "  second_number = int(input(\"Enter your second number \"))\n",
        "  total = int(first_number + second_number)\n",
        "  print(f'The total sum of {first_number} and {second_number} is {total}')\n",
        "\n",
        "if __name__ == \"__main__\":\n",
        "    add()\n",
        "\n"
      ]
    },
    {
      "cell_type": "code",
      "execution_count": null,
      "metadata": {
        "id": "R7XmNgXLv-kZ",
        "colab": {
          "base_uri": "https://localhost:8080/"
        },
        "outputId": "456b8c91-47de-4445-a864-85bbfb533935"
      },
      "outputs": [
        {
          "output_type": "stream",
          "name": "stdout",
          "text": [
            "02_agreement_bot\n",
            "What is your favourte animal? cat\n",
            "My favorite animal is cat!\n"
          ]
        }
      ],
      "source": [
        "print(\"02_agreement_bot\")\n",
        "\n",
        "def bot():\n",
        "  animal = str(input(\"What is your favourte animal? \"))\n",
        "  print(f'My favorite animal is {animal}!')\n",
        "\n",
        "if __name__ == \"__main__\":\n",
        "    bot()\n"
      ]
    },
    {
      "cell_type": "code",
      "source": [
        "print(\"03_fahrenheit_to_celsius\")\n",
        "\n",
        "def temp():\n",
        "  print(\"This code for converting fahenheit to celsius\")\n",
        "  fahenheit_drgree = float(input(\"Enter your fahenheit degree. \"))\n",
        "  celsius_degree = (fahenheit_drgree - 32) * 5.0/9.0\n",
        "  print(f'Tempereture {fahenheit_drgree} F = {celsius_degree} C')\n",
        "\n",
        "if __name__ == \"__main__\":\n",
        "  temp()"
      ],
      "metadata": {
        "id": "ePSZC6hBEKHU",
        "colab": {
          "base_uri": "https://localhost:8080/"
        },
        "outputId": "3b46fc98-ae43-40c9-d2ee-0f31b28f31d5"
      },
      "execution_count": null,
      "outputs": [
        {
          "output_type": "stream",
          "name": "stdout",
          "text": [
            "03_fahrenheit_to_celsius\n",
            "This code for converting fahenheit to celsius\n",
            "Enter your fahenheit degree. 54\n",
            "Tempereture 54.0 F = 12.222222222222221 C\n"
          ]
        }
      ]
    },
    {
      "cell_type": "code",
      "source": [
        "print(\"04_how_old_are_they\")\n",
        "\n",
        "def add_ages():\n",
        "  anthon:int =21\n",
        "  beth:int = anthon + 6\n",
        "  chen:int = beth + 20\n",
        "  drew:int = chen + anthon\n",
        "  ethen:int = chen\n",
        "\n",
        "  print(\"Anthon is \" + str(anthon))\n",
        "  print(\"Beth is \" + str(beth))\n",
        "  print(\"Chen is \" + str(chen))\n",
        "  print(\"Drew is \" + str(drew))\n",
        "  print(\"Ethen is \" + str(ethen))\n",
        "\n",
        "if __name__ == \"__main__\":\n",
        "   add_ages()\n"
      ],
      "metadata": {
        "colab": {
          "base_uri": "https://localhost:8080/"
        },
        "id": "ZVoFn321H_OF",
        "outputId": "39090827-4ea6-4433-957a-e0c283eeec21"
      },
      "execution_count": null,
      "outputs": [
        {
          "output_type": "stream",
          "name": "stdout",
          "text": [
            "04_how_old_are_they\n",
            "Anthon is 21\n",
            "Beth is 27\n",
            "Chen is 47\n",
            "Drew is 68\n",
            "Ethen is 47\n"
          ]
        }
      ]
    },
    {
      "cell_type": "code",
      "source": [
        "print(\"05_triangle_perimeter\")\n",
        "\n",
        "def triangle():\n",
        "  print(\"This code is about perameter of triangle.\")\n",
        "  side1:float = float(input(\"Enter your first side no of triangle \"))\n",
        "  side2:float = float(input(\"Enter your second side no of triangle \"))\n",
        "  side3:float = float(input(\"Enter your three side no of triangle \"))\n",
        "  total:float = float(side1 + side2 + side3)\n",
        "  print(f'The perameter of the triangle is {total}')\n",
        "\n",
        "if __name__ == \"__main__\":\n",
        "  triangle()"
      ],
      "metadata": {
        "colab": {
          "base_uri": "https://localhost:8080/"
        },
        "id": "dULYTLtkDO_o",
        "outputId": "ef3a987b-4fcc-44fd-a0c0-047e7ff99f3d"
      },
      "execution_count": 5,
      "outputs": [
        {
          "output_type": "stream",
          "name": "stdout",
          "text": [
            "05_triangle_perimeter\n",
            "This code is about perameter of triangle.\n",
            "Enter your three side no of triangle2\n",
            "The perameter of the triangle is 12.0\n"
          ]
        }
      ]
    },
    {
      "cell_type": "code",
      "source": [
        "print(\"06_square_number\")\n",
        "\n",
        "def square():\n",
        "  print(\"This code is about square of given number\")\n",
        "  num1:int = int(input(\"Enter any number and i will give you a square value. \"))\n",
        "  print(f'The square of {num1} is {num1 ** 2}')\n",
        "\n",
        "if __name__ == \"__main__\":\n",
        "  square()"
      ],
      "metadata": {
        "id": "f1fe93QUGFgm",
        "colab": {
          "base_uri": "https://localhost:8080/"
        },
        "outputId": "defec5c6-5fb4-4e9d-d7a4-e0f6e87ce82f"
      },
      "execution_count": 6,
      "outputs": [
        {
          "output_type": "stream",
          "name": "stdout",
          "text": [
            "06_square_number\n",
            "This code is about square of given number\n",
            "Enter any number and i will give you a square value. 2\n",
            "The square of 2 is 4\n"
          ]
        }
      ]
    }
  ],
  "metadata": {
    "colab": {
      "provenance": [],
      "authorship_tag": "ABX9TyNDaywwwAGFxXxf0bBI0Qpf",
      "include_colab_link": true
    },
    "kernelspec": {
      "display_name": "Python 3",
      "name": "python3"
    },
    "language_info": {
      "name": "python"
    }
  },
  "nbformat": 4,
  "nbformat_minor": 0
}